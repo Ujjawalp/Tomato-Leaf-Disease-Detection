{
  "cells": [
    {
      "cell_type": "markdown",
      "metadata": {
        "id": "view-in-github",
        "colab_type": "text"
      },
      "source": [
        "<a href=\"https://colab.research.google.com/github/Ujjawalp/Tomato-Leaf-Disease-Detection/blob/main/Tomato_leaf_detection.ipynb\" target=\"_parent\"><img src=\"https://colab.research.google.com/assets/colab-badge.svg\" alt=\"Open In Colab\"/></a>"
      ]
    },
    {
      "cell_type": "code",
      "execution_count": null,
      "metadata": {
        "id": "GLCGPxrsxwYB",
        "colab": {
          "base_uri": "https://localhost:8080/"
        },
        "outputId": "c0211c20-2251-4052-bd6e-76e3ac4112a2"
      },
      "outputs": [
        {
          "output_type": "stream",
          "name": "stdout",
          "text": [
            "Requirement already satisfied: kaggle in /usr/local/lib/python3.10/dist-packages (1.5.16)\n",
            "Requirement already satisfied: six>=1.10 in /usr/local/lib/python3.10/dist-packages (from kaggle) (1.16.0)\n",
            "Requirement already satisfied: certifi in /usr/local/lib/python3.10/dist-packages (from kaggle) (2024.2.2)\n",
            "Requirement already satisfied: python-dateutil in /usr/local/lib/python3.10/dist-packages (from kaggle) (2.8.2)\n",
            "Requirement already satisfied: requests in /usr/local/lib/python3.10/dist-packages (from kaggle) (2.31.0)\n",
            "Requirement already satisfied: tqdm in /usr/local/lib/python3.10/dist-packages (from kaggle) (4.66.2)\n",
            "Requirement already satisfied: python-slugify in /usr/local/lib/python3.10/dist-packages (from kaggle) (8.0.4)\n",
            "Requirement already satisfied: urllib3 in /usr/local/lib/python3.10/dist-packages (from kaggle) (2.0.7)\n",
            "Requirement already satisfied: bleach in /usr/local/lib/python3.10/dist-packages (from kaggle) (6.1.0)\n",
            "Requirement already satisfied: webencodings in /usr/local/lib/python3.10/dist-packages (from bleach->kaggle) (0.5.1)\n",
            "Requirement already satisfied: text-unidecode>=1.3 in /usr/local/lib/python3.10/dist-packages (from python-slugify->kaggle) (1.3)\n",
            "Requirement already satisfied: charset-normalizer<4,>=2 in /usr/local/lib/python3.10/dist-packages (from requests->kaggle) (3.3.2)\n",
            "Requirement already satisfied: idna<4,>=2.5 in /usr/local/lib/python3.10/dist-packages (from requests->kaggle) (3.7)\n"
          ]
        }
      ],
      "source": [
        "! pip install kaggle"
      ]
    },
    {
      "cell_type": "code",
      "execution_count": null,
      "metadata": {
        "colab": {
          "base_uri": "https://localhost:8080/"
        },
        "id": "QHB70v6sx1LK",
        "outputId": "c0353634-8466-4874-e89e-c5bc8d4acd64"
      },
      "outputs": [
        {
          "output_type": "stream",
          "name": "stdout",
          "text": [
            "Mounted at /content/drive\n"
          ]
        }
      ],
      "source": [
        "from google.colab import drive\n",
        "drive.mount('/content/drive')"
      ]
    },
    {
      "cell_type": "code",
      "execution_count": null,
      "metadata": {
        "id": "Z9jZcMvux2vZ"
      },
      "outputs": [],
      "source": [
        "! mkdir ~/.kaggle"
      ]
    },
    {
      "cell_type": "code",
      "execution_count": null,
      "metadata": {
        "id": "fqroWnmgx4KG"
      },
      "outputs": [],
      "source": [
        "!cp /content/drive/MyDrive/kaggle_api_credentials/kaggle.json ~/.kaggle/kaggle.json"
      ]
    },
    {
      "cell_type": "code",
      "execution_count": null,
      "metadata": {
        "id": "SG-kG2nvx6cv"
      },
      "outputs": [],
      "source": [
        "! chmod 600 ~/.kaggle/kaggle.json"
      ]
    },
    {
      "cell_type": "code",
      "execution_count": null,
      "metadata": {
        "colab": {
          "base_uri": "https://localhost:8080/"
        },
        "id": "P20N_Pi7x7tJ",
        "outputId": "07111ce9-e68c-4f5f-cdbb-f9487465fb9d"
      },
      "outputs": [
        {
          "output_type": "stream",
          "name": "stdout",
          "text": [
            "Downloading tomato.zip to /content\n",
            " 99% 1.35G/1.37G [00:16<00:00, 91.9MB/s]\n",
            "100% 1.37G/1.37G [00:16<00:00, 89.1MB/s]\n"
          ]
        }
      ],
      "source": [
        "!kaggle datasets download ashishmotwani/tomato"
      ]
    },
    {
      "cell_type": "code",
      "execution_count": null,
      "metadata": {
        "id": "GMNMJXolyCdr"
      },
      "outputs": [],
      "source": [
        "! unzip tomato.zip"
      ]
    },
    {
      "cell_type": "code",
      "execution_count": null,
      "metadata": {
        "id": "i36P3joTyC9J"
      },
      "outputs": [],
      "source": [
        "import numpy as np\n",
        "import pandas as pd\n",
        "import matplotlib.pyplot as plt\n",
        "import os\n",
        "\n",
        "import keras\n",
        "\n",
        "from keras.preprocessing.image import ImageDataGenerator, img_to_array, load_img\n",
        "from keras.applications import InceptionV3"
      ]
    },
    {
      "cell_type": "code",
      "source": [
        "inc = InceptionV3(input_shape=(224,224,3), weights='imagenet', include_top=False)"
      ],
      "metadata": {
        "colab": {
          "base_uri": "https://localhost:8080/"
        },
        "id": "wmIb5anIdnri",
        "outputId": "b580caf8-6530-408e-d938-ea005124fb07"
      },
      "execution_count": null,
      "outputs": [
        {
          "output_type": "stream",
          "name": "stdout",
          "text": [
            "Downloading data from https://storage.googleapis.com/tensorflow/keras-applications/inception_v3/inception_v3_weights_tf_dim_ordering_tf_kernels_notop.h5\n",
            "87910968/87910968 [==============================] - 1s 0us/step\n"
          ]
        }
      ]
    },
    {
      "cell_type": "code",
      "execution_count": null,
      "metadata": {
        "id": "IvzII0ooyErk",
        "colab": {
          "base_uri": "https://localhost:8080/",
          "height": 110
        },
        "outputId": "81cca8bb-a216-4c3e-8737-f6a54c698173"
      },
      "outputs": [
        {
          "output_type": "error",
          "ename": "SyntaxError",
          "evalue": "invalid syntax (<ipython-input-15-85afc9b06462>, line 1)",
          "traceback": [
            "\u001b[0;36m  File \u001b[0;32m\"<ipython-input-15-85afc9b06462>\"\u001b[0;36m, line \u001b[0;32m1\u001b[0m\n\u001b[0;31m    train_datagen = ImageDataGenerator(zoom_range= 0.5, shear_range= 0.3, horizontal_flip= True, preprocessing_function= )\u001b[0m\n\u001b[0m                                                                                                                         ^\u001b[0m\n\u001b[0;31mSyntaxError\u001b[0m\u001b[0;31m:\u001b[0m invalid syntax\n"
          ]
        }
      ],
      "source": [
        "train_datagen = ImageDataGenerator(zoom_range= 0.5, shear_range= 0.3, horizontal_flip= True, preprocessing_function= )\n",
        "\n",
        "val_datagen = ImageDataGenerator(preprocessing_function= )"
      ]
    },
    {
      "cell_type": "code",
      "execution_count": null,
      "metadata": {
        "colab": {
          "base_uri": "https://localhost:8080/"
        },
        "id": "NEqFmxBEyGIC",
        "outputId": "649d976f-24f2-4473-fc0e-0aeb79ed258e"
      },
      "outputs": [
        {
          "name": "stdout",
          "output_type": "stream",
          "text": [
            "Found 10000 images belonging to 10 classes.\n",
            "Found 1000 images belonging to 10 classes.\n"
          ]
        }
      ],
      "source": [
        "train = train_datagen.flow_from_directory(directory= \"/content/tomato/train\", target_size= (256,256), batch_size= 32)\n",
        "\n",
        "val = val_datagen.flow_from_directory(directory= \"/content/tomato/val\", target_size= (256,256), batch_size= 32)"
      ]
    },
    {
      "cell_type": "code",
      "execution_count": null,
      "metadata": {
        "colab": {
          "background_save": true
        },
        "id": "AxQCjk9kyJ_a"
      },
      "outputs": [],
      "source": [
        "from keras.layers import Dense, Flatten\n",
        "from keras.models import Model\n",
        "from keras.applications.vgg19 import VGG19\n",
        "import keras"
      ]
    },
    {
      "cell_type": "code",
      "execution_count": null,
      "metadata": {
        "colab": {
          "background_save": true
        },
        "id": "Ad2TeJLPyHQ0",
        "outputId": "6e09855e-03b1-4a5f-c18d-7772d6c9fde0"
      },
      "outputs": [
        {
          "name": "stdout",
          "output_type": "stream",
          "text": [
            "Downloading data from https://storage.googleapis.com/tensorflow/keras-applications/vgg19/vgg19_weights_tf_dim_ordering_tf_kernels_notop.h5\n",
            "80134624/80134624 [==============================] - 0s 0us/step\n"
          ]
        }
      ],
      "source": [
        "base_model = VGG19(input_shape=(256,256,3), include_top= False)"
      ]
    },
    {
      "cell_type": "code",
      "execution_count": null,
      "metadata": {
        "id": "v5NsA_8OyNg1"
      },
      "outputs": [],
      "source": [
        "base_model.summary()"
      ]
    },
    {
      "cell_type": "code",
      "execution_count": null,
      "metadata": {
        "id": "bAwpbOJIyP30"
      },
      "outputs": [],
      "source": [
        "for layer in base_model.layers:\n",
        "  layer.trainable = False"
      ]
    },
    {
      "cell_type": "code",
      "execution_count": null,
      "metadata": {
        "id": "q-ZY0xPIyQ0p"
      },
      "outputs": [],
      "source": [
        "X = Flatten()(base_model.output)\n",
        "\n",
        "X = Dense(units= 10, activation='softmax')(X)\n",
        "\n",
        "model = Model(base_model.input, X)"
      ]
    },
    {
      "cell_type": "code",
      "execution_count": null,
      "metadata": {
        "id": "BX3804TcyR71"
      },
      "outputs": [],
      "source": [
        "model.summary()\n"
      ]
    },
    {
      "cell_type": "code",
      "execution_count": null,
      "metadata": {
        "id": "3u9hqydcyTmj"
      },
      "outputs": [],
      "source": [
        "model.compile(optimizer= 'adam', loss= keras.losses.categorical_crossentropy, metrics= ['accuracy'])"
      ]
    },
    {
      "cell_type": "code",
      "execution_count": null,
      "metadata": {
        "id": "K2nboRUwyU32"
      },
      "outputs": [],
      "source": [
        "from keras.callbacks import ModelCheckpoint, EarlyStopping\n",
        "\n",
        "es = EarlyStopping(monitor= 'val_accuracy', min_delta= 0.01, patience= 5, verbose= 2)\n",
        "\n",
        "mc = ModelCheckpoint(filepath= 'best_model.h5', monitor= 'val_accuracy', min_delta= 0.01, patience= 5, verbose= 2, save_best_only= True)\n",
        "\n",
        "cb = [es, mc]"
      ]
    },
    {
      "cell_type": "code",
      "execution_count": null,
      "metadata": {
        "colab": {
          "background_save": true
        },
        "id": "43zxR5SQyXj1",
        "outputId": "4964a602-3ff2-4ecd-8875-274c91c08ce7"
      },
      "outputs": [
        {
          "name": "stderr",
          "output_type": "stream",
          "text": [
            "<ipython-input-19-41f3b8bc3a68>:1: UserWarning: `Model.fit_generator` is deprecated and will be removed in a future version. Please use `Model.fit`, which supports generators.\n",
            "  his = model.fit_generator(train, steps_per_epoch= 16, epochs= 50, verbose= 2, callbacks= cb, validation_data= val, validation_steps=16)\n"
          ]
        },
        {
          "name": "stdout",
          "output_type": "stream",
          "text": [
            "Epoch 1/50\n",
            "\n",
            "Epoch 1: val_accuracy improved from -inf to 0.49219, saving model to best_model.h5\n",
            "16/16 - 24s - loss: 16.5962 - accuracy: 0.3047 - val_loss: 12.4549 - val_accuracy: 0.4922 - 24s/epoch - 2s/step\n",
            "Epoch 2/50\n"
          ]
        },
        {
          "name": "stderr",
          "output_type": "stream",
          "text": [
            "/usr/local/lib/python3.10/dist-packages/keras/src/engine/training.py:3103: UserWarning: You are saving your model as an HDF5 file via `model.save()`. This file format is considered legacy. We recommend using instead the native Keras format, e.g. `model.save('my_model.keras')`.\n",
            "  saving_api.save_model(\n"
          ]
        },
        {
          "name": "stdout",
          "output_type": "stream",
          "text": [
            "\n",
            "Epoch 2: val_accuracy improved from 0.49219 to 0.61328, saving model to best_model.h5\n",
            "16/16 - 14s - loss: 8.6584 - accuracy: 0.5586 - val_loss: 9.0026 - val_accuracy: 0.6133 - 14s/epoch - 896ms/step\n",
            "Epoch 3/50\n",
            "\n",
            "Epoch 3: val_accuracy improved from 0.61328 to 0.63477, saving model to best_model.h5\n",
            "16/16 - 15s - loss: 7.6637 - accuracy: 0.6543 - val_loss: 9.1740 - val_accuracy: 0.6348 - 15s/epoch - 912ms/step\n",
            "Epoch 4/50\n",
            "\n",
            "Epoch 4: val_accuracy improved from 0.63477 to 0.68164, saving model to best_model.h5\n",
            "16/16 - 12s - loss: 5.6371 - accuracy: 0.7031 - val_loss: 8.2308 - val_accuracy: 0.6816 - 12s/epoch - 737ms/step\n",
            "Epoch 5/50\n",
            "\n",
            "Epoch 5: val_accuracy improved from 0.68164 to 0.73242, saving model to best_model.h5\n",
            "16/16 - 14s - loss: 6.3031 - accuracy: 0.6680 - val_loss: 6.2508 - val_accuracy: 0.7324 - 14s/epoch - 904ms/step\n",
            "Epoch 6/50\n",
            "\n",
            "Epoch 6: val_accuracy did not improve from 0.73242\n",
            "16/16 - 11s - loss: 4.6452 - accuracy: 0.7539 - val_loss: 7.5200 - val_accuracy: 0.7246 - 11s/epoch - 708ms/step\n",
            "Epoch 7/50\n",
            "\n",
            "Epoch 7: val_accuracy did not improve from 0.73242\n",
            "16/16 - 16s - loss: 4.9044 - accuracy: 0.7832 - val_loss: 7.1553 - val_accuracy: 0.7168 - 16s/epoch - 979ms/step\n",
            "Epoch 8/50\n",
            "\n",
            "Epoch 8: val_accuracy did not improve from 0.73242\n",
            "16/16 - 18s - loss: 4.5586 - accuracy: 0.7742 - val_loss: 7.1432 - val_accuracy: 0.7070 - 18s/epoch - 1s/step\n",
            "Epoch 9/50\n",
            "\n",
            "Epoch 9: val_accuracy did not improve from 0.73242\n",
            "16/16 - 14s - loss: 6.3314 - accuracy: 0.7090 - val_loss: 8.8747 - val_accuracy: 0.7070 - 14s/epoch - 891ms/step\n",
            "Epoch 10/50\n",
            "\n",
            "Epoch 10: val_accuracy did not improve from 0.73242\n",
            "16/16 - 12s - loss: 6.2940 - accuracy: 0.7090 - val_loss: 9.0262 - val_accuracy: 0.7148 - 12s/epoch - 775ms/step\n",
            "Epoch 10: early stopping\n"
          ]
        }
      ],
      "source": [
        "his = model.fit_generator(train, steps_per_epoch= 16, epochs= 50, verbose= 2, callbacks= cb, validation_data= val, validation_steps=16)"
      ]
    },
    {
      "cell_type": "code",
      "execution_count": null,
      "metadata": {
        "colab": {
          "background_save": true,
          "base_uri": "https://localhost:8080/"
        },
        "id": "i7vnzWe1yZNF",
        "outputId": "86f75860-5448-411b-c748-651de05b8e6f"
      },
      "outputs": [
        {
          "data": {
            "text/plain": [
              "dict_keys(['loss', 'accuracy', 'val_loss', 'val_accuracy'])"
            ]
          },
          "execution_count": 20,
          "metadata": {},
          "output_type": "execute_result"
        }
      ],
      "source": [
        "h = his.history\n",
        "h.keys()"
      ]
    },
    {
      "cell_type": "code",
      "execution_count": null,
      "metadata": {
        "colab": {
          "base_uri": "https://localhost:8080/",
          "height": 452
        },
        "id": "c-E0gZiIybRz",
        "outputId": "6bc3204e-9166-4438-9b2b-2ef3056a0d91"
      },
      "outputs": [
        {
          "data": {
            "image/png": "[encoded data removed]",
            "text/plain": [
              "<Figure size 640x480 with 1 Axes>"
            ]
          },
          "metadata": {},
          "output_type": "display_data"
        }
      ],
      "source": [
        "plt.plot(h['accuracy'])\n",
        "plt.plot(h['val_accuracy'], c= \"red\")\n",
        "plt.title(\"acc vs v-acc\")\n",
        "plt.show()"
      ]
    },
    {
      "cell_type": "code",
      "execution_count": null,
      "metadata": {
        "colab": {
          "base_uri": "https://localhost:8080/",
          "height": 452
        },
        "id": "FHxzlnjkyc1v",
        "outputId": "5fd38ae4-987c-41e4-8e02-9a65748f465d"
      },
      "outputs": [
        {
          "data": {
            "image/png": "[encoded data removed]",
            "text/plain": [
              "<Figure size 640x480 with 1 Axes>"
            ]
          },
          "metadata": {},
          "output_type": "display_data"
        }
      ],
      "source": [
        "plt.plot(h['loss'])\n",
        "plt.plot(h['val_loss'], c= \"red\")\n",
        "plt.title(\"loss vs v-loss\")\n",
        "plt.show()"
      ]
    },
    {
      "cell_type": "code",
      "execution_count": null,
      "metadata": {
        "id": "llXaTY4aydkK"
      },
      "outputs": [],
      "source": [
        "from keras.models import  load_model\n",
        "\n",
        "model = load_model(\"/content/best_model.h5\")"
      ]
    },
    {
      "cell_type": "code",
      "execution_count": null,
      "metadata": {
        "colab": {
          "base_uri": "https://localhost:8080/"
        },
        "id": "jpc3z-D_yfW_",
        "outputId": "c962b202-2b8f-4d45-c275-81cd7b5bd3dd"
      },
      "outputs": [
        {
          "name": "stderr",
          "output_type": "stream",
          "text": [
            "<ipython-input-52-3dd475e0eb34>:1: UserWarning: `Model.evaluate_generator` is deprecated and will be removed in a future version. Please use `Model.evaluate`, which supports generators.\n",
            "  acc = model.evaluate_generator(val)[1]\n"
          ]
        },
        {
          "name": "stdout",
          "output_type": "stream",
          "text": [
            "The accuracy of your model is = 79.29999828338623 %\n"
          ]
        }
      ],
      "source": [
        "acc = model.evaluate_generator(val)[1]\n",
        "\n",
        "print(f\"The accuracy of your model is = {acc*100} %\")"
      ]
    },
    {
      "cell_type": "code",
      "execution_count": null,
      "metadata": {
        "id": "KlRzG8fvygoF"
      },
      "outputs": [],
      "source": [
        "ref = dict(zip(list(train.class_indices.values()), list(train.class_indices.keys())))"
      ]
    },
    {
      "cell_type": "code",
      "execution_count": null,
      "metadata": {
        "id": "4XUWDBHmyiDj"
      },
      "outputs": [],
      "source": [
        "def prediction(path):\n",
        "  img = load_img(path, target_size=(256,256))\n",
        "  i = img_to_array(img)\n",
        "  im = preprocess_input(i)\n",
        "  img = np.expand_dims(im, axis= 0)\n",
        "  pred = np.argmax(model.predict(img))\n",
        "  print(f\" the image belongs to { ref[pred]}\")"
      ]
    },
    {
      "cell_type": "code",
      "execution_count": null,
      "metadata": {
        "colab": {
          "base_uri": "https://localhost:8080/"
        },
        "id": "LCH0Dvruyj_s",
        "outputId": "2f52523a-c93a-4f02-be0f-671ea59a1dd8"
      },
      "outputs": [
        {
          "name": "stdout",
          "output_type": "stream",
          "text": [
            "1/1 [==============================] - 0s 30ms/step\n",
            " the image belongs to Tomato___Septoria_leaf_spot\n"
          ]
        }
      ],
      "source": [
        "path = \"/content/test/bacterial_spot_tomato.jpg\"\n",
        "\n",
        "prediction(path)"
      ]
    }
  ],
  "metadata": {
    "accelerator": "GPU",
    "colab": {
      "gpuType": "T4",
      "provenance": [],
      "authorship_tag": "ABX9TyOoz5XW5ZZYM/vweZ1bTBxz",
      "include_colab_link": true
    },
    "kernelspec": {
      "display_name": "Python 3",
      "name": "python3"
    },
    "language_info": {
      "name": "python"
    }
  },
  "nbformat": 4,
  "nbformat_minor": 0
}